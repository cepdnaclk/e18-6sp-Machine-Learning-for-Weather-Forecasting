{
  "nbformat": 4,
  "nbformat_minor": 0,
  "metadata": {
    "colab": {
      "provenance": []
    },
    "kernelspec": {
      "name": "python3",
      "display_name": "Python 3"
    },
    "language_info": {
      "name": "python"
    }
  },
  "cells": [
    {
      "cell_type": "code",
      "execution_count": 18,
      "metadata": {
        "colab": {
          "base_uri": "https://localhost:8080/"
        },
        "id": "ee-EvTVpRuiI",
        "outputId": "3fc70136-4acc-4564-d328-6213b73384d7"
      },
      "outputs": [
        {
          "output_type": "stream",
          "name": "stdout",
          "text": [
            "MAE on train data=  62.790241159024404\n",
            "MAE on test data =  65.46283327591436\n"
          ]
        }
      ],
      "source": [
        "# Importing libraries \n",
        "import pandas as pd\n",
        "from sklearn.model_selection import train_test_split\n",
        "from sklearn.linear_model import LinearRegression\n",
        "from sklearn import metrics\n",
        "\n",
        "# Defining the columns of and reading our DataFrame \n",
        "columns = ['puttalam','tauu','rlus','sfcWind','rsuscs','rsus','rsdscs', 'prw', 'hurs','rtmt','ua_850','evspsbl','vas','clwvi', 'rsutcs', 'rsds',\n",
        "           'ua_500','va_850','pr','huss','sbl', 'zg_500', 'wap_500','clt','va_500','clivi','ta_500','psl', 'hfls', 'hfss','prc','ps',\n",
        "           'rlds','rldcs','rlut', 'rlutcs', 'rsdt','rsut','ta_850','tas','tasmax','tasmin', 'tauv', 'tro3_500','tro3_850','ts','uas',\n",
        "           'wap_850','zg_850']\n",
        "data = pd.read_csv('climatedata.csv')\n",
        "\n",
        "# Seperating the data into features and labels\n",
        "X = data[['tauu','rlus','sfcWind','rsuscs','rsus','rsdscs', 'prw', 'hurs']]\n",
        "y = data['puttalam']\n",
        "\n",
        "# Dividing the dataset into test and train data\n",
        "X_train, X_test, y_train, y_test = train_test_split(X, y, test_size=0.2, random_state=42, shuffle=True)\n",
        "\n",
        "# Selecting the linear regression method from the scikit-learn library\n",
        "model = LinearRegression().fit(X_train, y_train)\n",
        "\n",
        "# Validation\n",
        "# Evaluating the trained model on training data by calculating Mean Absolute Error \n",
        "y_prediction = model.predict(X_train)\n",
        "print(\"MAE on train data= \" , metrics.mean_absolute_error(y_train, y_prediction))\n",
        "# Evaluating the trained model on test data\n",
        "y_prediction = model.predict(X_test)\n",
        "print(\"MAE on test data = \" , metrics.mean_absolute_error(y_test, y_prediction))"
      ]
    },
    {
      "cell_type": "code",
      "source": [],
      "metadata": {
        "id": "q6yw6R3uTaw6"
      },
      "execution_count": 17,
      "outputs": []
    }
  ]
}