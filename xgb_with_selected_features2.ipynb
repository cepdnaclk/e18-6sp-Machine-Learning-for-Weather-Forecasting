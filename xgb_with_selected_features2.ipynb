{
  "nbformat": 4,
  "nbformat_minor": 0,
  "metadata": {
    "colab": {
      "provenance": [],
      "collapsed_sections": [
        "UhWCOHGjGTmp",
        "WczFfzyUdRsj",
        "6MP7_sfg5yLC",
        "vg0qwHlMjWqP",
        "dCjIKldpjxU0"
      ]
    },
    "kernelspec": {
      "name": "python3",
      "display_name": "Python 3"
    },
    "language_info": {
      "name": "python"
    }
  },
  "cells": [
    {
      "cell_type": "code",
      "execution_count": null,
      "metadata": {
        "colab": {
          "base_uri": "https://localhost:8080/",
          "height": 255
        },
        "id": "UoFporKeeIkn",
        "outputId": "6594f0da-8be8-4eb0-a317-fd0a3915445f"
      },
      "outputs": [
        {
          "output_type": "execute_result",
          "data": {
            "text/plain": [
              "   puttalam      tauu      rlus   sfcWind    rsuscs      rsus    rsdscs  \\\n",
              "0      63.3  0.152785  0.142045  0.477828  0.454995  0.497287  0.322817   \n",
              "1      65.8  0.160138  0.264588  0.367296  0.726774  0.744863  0.662825   \n",
              "2     101.1  0.244791  0.591772  0.126316  0.988048  0.980332  0.980188   \n",
              "3     247.1  0.492494  0.779492  0.319731  0.857485  0.641255  0.986357   \n",
              "4      93.7  0.659536  0.821613  0.617099  0.633129  0.734383  0.829791   \n",
              "\n",
              "        prw      hurs      rtmt  ...    tasmax    tasmin      tauv  tro3_500  \\\n",
              "0  0.440015  0.638365  0.298824  ...  0.135349  0.221053  0.224634  0.673354   \n",
              "1  0.319734  0.468713  0.599960  ...  0.374378  0.241274  0.308724  0.710253   \n",
              "2  0.177955  0.008800  0.629573  ...  0.728056  0.390637  0.452436  0.705782   \n",
              "3  0.480825  0.305399  0.768145  ...  0.744221  0.743645  0.677382  0.514572   \n",
              "4  0.406790  0.416917  0.681049  ...  0.836437  0.786981  0.815424  0.997094   \n",
              "\n",
              "   tro3_850        ts       uas   wap_850    zg_850      date  \n",
              "0  0.863010  0.147308  0.130948  0.736840  0.739986  1/1/1980  \n",
              "1  0.673910  0.286245  0.128115  0.909573  0.615100  2/1/1980  \n",
              "2  0.774462  0.631751  0.235086  0.537343  0.570181  3/1/1980  \n",
              "3  0.602426  0.784966  0.583027  0.433170  0.519760  4/1/1980  \n",
              "4  0.698438  0.828084  0.768470  0.795436  0.402319  5/1/1980  \n",
              "\n",
              "[5 rows x 50 columns]"
            ],
            "text/html": [
              "\n",
              "  <div id=\"df-ab7a85be-fbaf-4996-8b30-23fd37863a02\" class=\"colab-df-container\">\n",
              "    <div>\n",
              "<style scoped>\n",
              "    .dataframe tbody tr th:only-of-type {\n",
              "        vertical-align: middle;\n",
              "    }\n",
              "\n",
              "    .dataframe tbody tr th {\n",
              "        vertical-align: top;\n",
              "    }\n",
              "\n",
              "    .dataframe thead th {\n",
              "        text-align: right;\n",
              "    }\n",
              "</style>\n",
              "<table border=\"1\" class=\"dataframe\">\n",
              "  <thead>\n",
              "    <tr style=\"text-align: right;\">\n",
              "      <th></th>\n",
              "      <th>puttalam</th>\n",
              "      <th>tauu</th>\n",
              "      <th>rlus</th>\n",
              "      <th>sfcWind</th>\n",
              "      <th>rsuscs</th>\n",
              "      <th>rsus</th>\n",
              "      <th>rsdscs</th>\n",
              "      <th>prw</th>\n",
              "      <th>hurs</th>\n",
              "      <th>rtmt</th>\n",
              "      <th>...</th>\n",
              "      <th>tasmax</th>\n",
              "      <th>tasmin</th>\n",
              "      <th>tauv</th>\n",
              "      <th>tro3_500</th>\n",
              "      <th>tro3_850</th>\n",
              "      <th>ts</th>\n",
              "      <th>uas</th>\n",
              "      <th>wap_850</th>\n",
              "      <th>zg_850</th>\n",
              "      <th>date</th>\n",
              "    </tr>\n",
              "  </thead>\n",
              "  <tbody>\n",
              "    <tr>\n",
              "      <th>0</th>\n",
              "      <td>63.3</td>\n",
              "      <td>0.152785</td>\n",
              "      <td>0.142045</td>\n",
              "      <td>0.477828</td>\n",
              "      <td>0.454995</td>\n",
              "      <td>0.497287</td>\n",
              "      <td>0.322817</td>\n",
              "      <td>0.440015</td>\n",
              "      <td>0.638365</td>\n",
              "      <td>0.298824</td>\n",
              "      <td>...</td>\n",
              "      <td>0.135349</td>\n",
              "      <td>0.221053</td>\n",
              "      <td>0.224634</td>\n",
              "      <td>0.673354</td>\n",
              "      <td>0.863010</td>\n",
              "      <td>0.147308</td>\n",
              "      <td>0.130948</td>\n",
              "      <td>0.736840</td>\n",
              "      <td>0.739986</td>\n",
              "      <td>1/1/1980</td>\n",
              "    </tr>\n",
              "    <tr>\n",
              "      <th>1</th>\n",
              "      <td>65.8</td>\n",
              "      <td>0.160138</td>\n",
              "      <td>0.264588</td>\n",
              "      <td>0.367296</td>\n",
              "      <td>0.726774</td>\n",
              "      <td>0.744863</td>\n",
              "      <td>0.662825</td>\n",
              "      <td>0.319734</td>\n",
              "      <td>0.468713</td>\n",
              "      <td>0.599960</td>\n",
              "      <td>...</td>\n",
              "      <td>0.374378</td>\n",
              "      <td>0.241274</td>\n",
              "      <td>0.308724</td>\n",
              "      <td>0.710253</td>\n",
              "      <td>0.673910</td>\n",
              "      <td>0.286245</td>\n",
              "      <td>0.128115</td>\n",
              "      <td>0.909573</td>\n",
              "      <td>0.615100</td>\n",
              "      <td>2/1/1980</td>\n",
              "    </tr>\n",
              "    <tr>\n",
              "      <th>2</th>\n",
              "      <td>101.1</td>\n",
              "      <td>0.244791</td>\n",
              "      <td>0.591772</td>\n",
              "      <td>0.126316</td>\n",
              "      <td>0.988048</td>\n",
              "      <td>0.980332</td>\n",
              "      <td>0.980188</td>\n",
              "      <td>0.177955</td>\n",
              "      <td>0.008800</td>\n",
              "      <td>0.629573</td>\n",
              "      <td>...</td>\n",
              "      <td>0.728056</td>\n",
              "      <td>0.390637</td>\n",
              "      <td>0.452436</td>\n",
              "      <td>0.705782</td>\n",
              "      <td>0.774462</td>\n",
              "      <td>0.631751</td>\n",
              "      <td>0.235086</td>\n",
              "      <td>0.537343</td>\n",
              "      <td>0.570181</td>\n",
              "      <td>3/1/1980</td>\n",
              "    </tr>\n",
              "    <tr>\n",
              "      <th>3</th>\n",
              "      <td>247.1</td>\n",
              "      <td>0.492494</td>\n",
              "      <td>0.779492</td>\n",
              "      <td>0.319731</td>\n",
              "      <td>0.857485</td>\n",
              "      <td>0.641255</td>\n",
              "      <td>0.986357</td>\n",
              "      <td>0.480825</td>\n",
              "      <td>0.305399</td>\n",
              "      <td>0.768145</td>\n",
              "      <td>...</td>\n",
              "      <td>0.744221</td>\n",
              "      <td>0.743645</td>\n",
              "      <td>0.677382</td>\n",
              "      <td>0.514572</td>\n",
              "      <td>0.602426</td>\n",
              "      <td>0.784966</td>\n",
              "      <td>0.583027</td>\n",
              "      <td>0.433170</td>\n",
              "      <td>0.519760</td>\n",
              "      <td>4/1/1980</td>\n",
              "    </tr>\n",
              "    <tr>\n",
              "      <th>4</th>\n",
              "      <td>93.7</td>\n",
              "      <td>0.659536</td>\n",
              "      <td>0.821613</td>\n",
              "      <td>0.617099</td>\n",
              "      <td>0.633129</td>\n",
              "      <td>0.734383</td>\n",
              "      <td>0.829791</td>\n",
              "      <td>0.406790</td>\n",
              "      <td>0.416917</td>\n",
              "      <td>0.681049</td>\n",
              "      <td>...</td>\n",
              "      <td>0.836437</td>\n",
              "      <td>0.786981</td>\n",
              "      <td>0.815424</td>\n",
              "      <td>0.997094</td>\n",
              "      <td>0.698438</td>\n",
              "      <td>0.828084</td>\n",
              "      <td>0.768470</td>\n",
              "      <td>0.795436</td>\n",
              "      <td>0.402319</td>\n",
              "      <td>5/1/1980</td>\n",
              "    </tr>\n",
              "  </tbody>\n",
              "</table>\n",
              "<p>5 rows × 50 columns</p>\n",
              "</div>\n",
              "    <div class=\"colab-df-buttons\">\n",
              "\n",
              "  <div class=\"colab-df-container\">\n",
              "    <button class=\"colab-df-convert\" onclick=\"convertToInteractive('df-ab7a85be-fbaf-4996-8b30-23fd37863a02')\"\n",
              "            title=\"Convert this dataframe to an interactive table.\"\n",
              "            style=\"display:none;\">\n",
              "\n",
              "  <svg xmlns=\"http://www.w3.org/2000/svg\" height=\"24px\" viewBox=\"0 -960 960 960\">\n",
              "    <path d=\"M120-120v-720h720v720H120Zm60-500h600v-160H180v160Zm220 220h160v-160H400v160Zm0 220h160v-160H400v160ZM180-400h160v-160H180v160Zm440 0h160v-160H620v160ZM180-180h160v-160H180v160Zm440 0h160v-160H620v160Z\"/>\n",
              "  </svg>\n",
              "    </button>\n",
              "\n",
              "  <style>\n",
              "    .colab-df-container {\n",
              "      display:flex;\n",
              "      gap: 12px;\n",
              "    }\n",
              "\n",
              "    .colab-df-convert {\n",
              "      background-color: #E8F0FE;\n",
              "      border: none;\n",
              "      border-radius: 50%;\n",
              "      cursor: pointer;\n",
              "      display: none;\n",
              "      fill: #1967D2;\n",
              "      height: 32px;\n",
              "      padding: 0 0 0 0;\n",
              "      width: 32px;\n",
              "    }\n",
              "\n",
              "    .colab-df-convert:hover {\n",
              "      background-color: #E2EBFA;\n",
              "      box-shadow: 0px 1px 2px rgba(60, 64, 67, 0.3), 0px 1px 3px 1px rgba(60, 64, 67, 0.15);\n",
              "      fill: #174EA6;\n",
              "    }\n",
              "\n",
              "    .colab-df-buttons div {\n",
              "      margin-bottom: 4px;\n",
              "    }\n",
              "\n",
              "    [theme=dark] .colab-df-convert {\n",
              "      background-color: #3B4455;\n",
              "      fill: #D2E3FC;\n",
              "    }\n",
              "\n",
              "    [theme=dark] .colab-df-convert:hover {\n",
              "      background-color: #434B5C;\n",
              "      box-shadow: 0px 1px 3px 1px rgba(0, 0, 0, 0.15);\n",
              "      filter: drop-shadow(0px 1px 2px rgba(0, 0, 0, 0.3));\n",
              "      fill: #FFFFFF;\n",
              "    }\n",
              "  </style>\n",
              "\n",
              "    <script>\n",
              "      const buttonEl =\n",
              "        document.querySelector('#df-ab7a85be-fbaf-4996-8b30-23fd37863a02 button.colab-df-convert');\n",
              "      buttonEl.style.display =\n",
              "        google.colab.kernel.accessAllowed ? 'block' : 'none';\n",
              "\n",
              "      async function convertToInteractive(key) {\n",
              "        const element = document.querySelector('#df-ab7a85be-fbaf-4996-8b30-23fd37863a02');\n",
              "        const dataTable =\n",
              "          await google.colab.kernel.invokeFunction('convertToInteractive',\n",
              "                                                    [key], {});\n",
              "        if (!dataTable) return;\n",
              "\n",
              "        const docLinkHtml = 'Like what you see? Visit the ' +\n",
              "          '<a target=\"_blank\" href=https://colab.research.google.com/notebooks/data_table.ipynb>data table notebook</a>'\n",
              "          + ' to learn more about interactive tables.';\n",
              "        element.innerHTML = '';\n",
              "        dataTable['output_type'] = 'display_data';\n",
              "        await google.colab.output.renderOutput(dataTable, element);\n",
              "        const docLink = document.createElement('div');\n",
              "        docLink.innerHTML = docLinkHtml;\n",
              "        element.appendChild(docLink);\n",
              "      }\n",
              "    </script>\n",
              "  </div>\n",
              "\n",
              "\n",
              "<div id=\"df-e7bd0722-2571-4509-bfa7-81bca86798d6\">\n",
              "  <button class=\"colab-df-quickchart\" onclick=\"quickchart('df-e7bd0722-2571-4509-bfa7-81bca86798d6')\"\n",
              "            title=\"Suggest charts.\"\n",
              "            style=\"display:none;\">\n",
              "\n",
              "<svg xmlns=\"http://www.w3.org/2000/svg\" height=\"24px\"viewBox=\"0 0 24 24\"\n",
              "     width=\"24px\">\n",
              "    <g>\n",
              "        <path d=\"M19 3H5c-1.1 0-2 .9-2 2v14c0 1.1.9 2 2 2h14c1.1 0 2-.9 2-2V5c0-1.1-.9-2-2-2zM9 17H7v-7h2v7zm4 0h-2V7h2v10zm4 0h-2v-4h2v4z\"/>\n",
              "    </g>\n",
              "</svg>\n",
              "  </button>\n",
              "\n",
              "<style>\n",
              "  .colab-df-quickchart {\n",
              "      --bg-color: #E8F0FE;\n",
              "      --fill-color: #1967D2;\n",
              "      --hover-bg-color: #E2EBFA;\n",
              "      --hover-fill-color: #174EA6;\n",
              "      --disabled-fill-color: #AAA;\n",
              "      --disabled-bg-color: #DDD;\n",
              "  }\n",
              "\n",
              "  [theme=dark] .colab-df-quickchart {\n",
              "      --bg-color: #3B4455;\n",
              "      --fill-color: #D2E3FC;\n",
              "      --hover-bg-color: #434B5C;\n",
              "      --hover-fill-color: #FFFFFF;\n",
              "      --disabled-bg-color: #3B4455;\n",
              "      --disabled-fill-color: #666;\n",
              "  }\n",
              "\n",
              "  .colab-df-quickchart {\n",
              "    background-color: var(--bg-color);\n",
              "    border: none;\n",
              "    border-radius: 50%;\n",
              "    cursor: pointer;\n",
              "    display: none;\n",
              "    fill: var(--fill-color);\n",
              "    height: 32px;\n",
              "    padding: 0;\n",
              "    width: 32px;\n",
              "  }\n",
              "\n",
              "  .colab-df-quickchart:hover {\n",
              "    background-color: var(--hover-bg-color);\n",
              "    box-shadow: 0 1px 2px rgba(60, 64, 67, 0.3), 0 1px 3px 1px rgba(60, 64, 67, 0.15);\n",
              "    fill: var(--button-hover-fill-color);\n",
              "  }\n",
              "\n",
              "  .colab-df-quickchart-complete:disabled,\n",
              "  .colab-df-quickchart-complete:disabled:hover {\n",
              "    background-color: var(--disabled-bg-color);\n",
              "    fill: var(--disabled-fill-color);\n",
              "    box-shadow: none;\n",
              "  }\n",
              "\n",
              "  .colab-df-spinner {\n",
              "    border: 2px solid var(--fill-color);\n",
              "    border-color: transparent;\n",
              "    border-bottom-color: var(--fill-color);\n",
              "    animation:\n",
              "      spin 1s steps(1) infinite;\n",
              "  }\n",
              "\n",
              "  @keyframes spin {\n",
              "    0% {\n",
              "      border-color: transparent;\n",
              "      border-bottom-color: var(--fill-color);\n",
              "      border-left-color: var(--fill-color);\n",
              "    }\n",
              "    20% {\n",
              "      border-color: transparent;\n",
              "      border-left-color: var(--fill-color);\n",
              "      border-top-color: var(--fill-color);\n",
              "    }\n",
              "    30% {\n",
              "      border-color: transparent;\n",
              "      border-left-color: var(--fill-color);\n",
              "      border-top-color: var(--fill-color);\n",
              "      border-right-color: var(--fill-color);\n",
              "    }\n",
              "    40% {\n",
              "      border-color: transparent;\n",
              "      border-right-color: var(--fill-color);\n",
              "      border-top-color: var(--fill-color);\n",
              "    }\n",
              "    60% {\n",
              "      border-color: transparent;\n",
              "      border-right-color: var(--fill-color);\n",
              "    }\n",
              "    80% {\n",
              "      border-color: transparent;\n",
              "      border-right-color: var(--fill-color);\n",
              "      border-bottom-color: var(--fill-color);\n",
              "    }\n",
              "    90% {\n",
              "      border-color: transparent;\n",
              "      border-bottom-color: var(--fill-color);\n",
              "    }\n",
              "  }\n",
              "</style>\n",
              "\n",
              "  <script>\n",
              "    async function quickchart(key) {\n",
              "      const quickchartButtonEl =\n",
              "        document.querySelector('#' + key + ' button');\n",
              "      quickchartButtonEl.disabled = true;  // To prevent multiple clicks.\n",
              "      quickchartButtonEl.classList.add('colab-df-spinner');\n",
              "      try {\n",
              "        const charts = await google.colab.kernel.invokeFunction(\n",
              "            'suggestCharts', [key], {});\n",
              "      } catch (error) {\n",
              "        console.error('Error during call to suggestCharts:', error);\n",
              "      }\n",
              "      quickchartButtonEl.classList.remove('colab-df-spinner');\n",
              "      quickchartButtonEl.classList.add('colab-df-quickchart-complete');\n",
              "    }\n",
              "    (() => {\n",
              "      let quickchartButtonEl =\n",
              "        document.querySelector('#df-e7bd0722-2571-4509-bfa7-81bca86798d6 button');\n",
              "      quickchartButtonEl.style.display =\n",
              "        google.colab.kernel.accessAllowed ? 'block' : 'none';\n",
              "    })();\n",
              "  </script>\n",
              "</div>\n",
              "    </div>\n",
              "  </div>\n"
            ]
          },
          "metadata": {},
          "execution_count": 1
        }
      ],
      "source": [
        "# Import libraries\n",
        "import pandas as pd\n",
        "import numpy as np\n",
        "import matplotlib.pyplot as plt\n",
        "import seaborn as sns\n",
        "import plotly.express as px\n",
        "from sklearn.metrics import classification_report, confusion_matrix\n",
        "import xgboost as xgb\n",
        "import numpy as np\n",
        "from sklearn.metrics import mean_squared_error\n",
        "from sklearn.metrics import mean_absolute_percentage_error\n",
        "import warnings\n",
        "\n",
        "warnings.filterwarnings(\"ignore\")\n",
        "\n",
        "\n",
        "# load data\n",
        "weather = pd.read_csv(\"climatedatawithdate.csv\")\n",
        "weather.head()\n"
      ]
    },
    {
      "cell_type": "code",
      "source": [
        "weather.isna().sum().sum()"
      ],
      "metadata": {
        "id": "HIP6_lA2sPR8",
        "colab": {
          "base_uri": "https://localhost:8080/"
        },
        "outputId": "abe34f06-2aef-4919-f8c3-b280bb41e567"
      },
      "execution_count": null,
      "outputs": [
        {
          "output_type": "execute_result",
          "data": {
            "text/plain": [
              "0"
            ]
          },
          "metadata": {},
          "execution_count": 2
        }
      ]
    },
    {
      "cell_type": "code",
      "source": [
        "# Create a target column\n",
        "weather['date'] = pd.to_datetime(weather['date'])  # Convert 'Date' column to DateTime format\n",
        "weather.sort_values(by='date', inplace=True)\n",
        "\n",
        "weather['target'] = weather['puttalam'].shift(-1)\n",
        "weather.dropna(inplace=True)        # Drop the last row\n",
        "weather.head()\n"
      ],
      "metadata": {
        "colab": {
          "base_uri": "https://localhost:8080/",
          "height": 342
        },
        "id": "HytJs25L0ak8",
        "outputId": "0784eaec-e033-4af8-ed6c-a7d81f80fc3e"
      },
      "execution_count": null,
      "outputs": [
        {
          "output_type": "execute_result",
          "data": {
            "text/plain": [
              "   puttalam      tauu      rlus   sfcWind    rsuscs      rsus    rsdscs  \\\n",
              "0      63.3  0.152785  0.142045  0.477828  0.454995  0.497287  0.322817   \n",
              "1      65.8  0.160138  0.264588  0.367296  0.726774  0.744863  0.662825   \n",
              "2     101.1  0.244791  0.591772  0.126316  0.988048  0.980332  0.980188   \n",
              "3     247.1  0.492494  0.779492  0.319731  0.857485  0.641255  0.986357   \n",
              "4      93.7  0.659536  0.821613  0.617099  0.633129  0.734383  0.829791   \n",
              "\n",
              "        prw      hurs      rtmt  ...    tasmin      tauv  tro3_500  tro3_850  \\\n",
              "0  0.440015  0.638365  0.298824  ...  0.221053  0.224634  0.673354  0.863010   \n",
              "1  0.319734  0.468713  0.599960  ...  0.241274  0.308724  0.710253  0.673910   \n",
              "2  0.177955  0.008800  0.629573  ...  0.390637  0.452436  0.705782  0.774462   \n",
              "3  0.480825  0.305399  0.768145  ...  0.743645  0.677382  0.514572  0.602426   \n",
              "4  0.406790  0.416917  0.681049  ...  0.786981  0.815424  0.997094  0.698438   \n",
              "\n",
              "         ts       uas   wap_850    zg_850       date  target  \n",
              "0  0.147308  0.130948  0.736840  0.739986 1980-01-01    65.8  \n",
              "1  0.286245  0.128115  0.909573  0.615100 1980-02-01   101.1  \n",
              "2  0.631751  0.235086  0.537343  0.570181 1980-03-01   247.1  \n",
              "3  0.784966  0.583027  0.433170  0.519760 1980-04-01    93.7  \n",
              "4  0.828084  0.768470  0.795436  0.402319 1980-05-01     0.4  \n",
              "\n",
              "[5 rows x 51 columns]"
            ],
            "text/html": [
              "\n",
              "  <div id=\"df-06f25341-855e-4111-95ff-840fc5da467a\" class=\"colab-df-container\">\n",
              "    <div>\n",
              "<style scoped>\n",
              "    .dataframe tbody tr th:only-of-type {\n",
              "        vertical-align: middle;\n",
              "    }\n",
              "\n",
              "    .dataframe tbody tr th {\n",
              "        vertical-align: top;\n",
              "    }\n",
              "\n",
              "    .dataframe thead th {\n",
              "        text-align: right;\n",
              "    }\n",
              "</style>\n",
              "<table border=\"1\" class=\"dataframe\">\n",
              "  <thead>\n",
              "    <tr style=\"text-align: right;\">\n",
              "      <th></th>\n",
              "      <th>puttalam</th>\n",
              "      <th>tauu</th>\n",
              "      <th>rlus</th>\n",
              "      <th>sfcWind</th>\n",
              "      <th>rsuscs</th>\n",
              "      <th>rsus</th>\n",
              "      <th>rsdscs</th>\n",
              "      <th>prw</th>\n",
              "      <th>hurs</th>\n",
              "      <th>rtmt</th>\n",
              "      <th>...</th>\n",
              "      <th>tasmin</th>\n",
              "      <th>tauv</th>\n",
              "      <th>tro3_500</th>\n",
              "      <th>tro3_850</th>\n",
              "      <th>ts</th>\n",
              "      <th>uas</th>\n",
              "      <th>wap_850</th>\n",
              "      <th>zg_850</th>\n",
              "      <th>date</th>\n",
              "      <th>target</th>\n",
              "    </tr>\n",
              "  </thead>\n",
              "  <tbody>\n",
              "    <tr>\n",
              "      <th>0</th>\n",
              "      <td>63.3</td>\n",
              "      <td>0.152785</td>\n",
              "      <td>0.142045</td>\n",
              "      <td>0.477828</td>\n",
              "      <td>0.454995</td>\n",
              "      <td>0.497287</td>\n",
              "      <td>0.322817</td>\n",
              "      <td>0.440015</td>\n",
              "      <td>0.638365</td>\n",
              "      <td>0.298824</td>\n",
              "      <td>...</td>\n",
              "      <td>0.221053</td>\n",
              "      <td>0.224634</td>\n",
              "      <td>0.673354</td>\n",
              "      <td>0.863010</td>\n",
              "      <td>0.147308</td>\n",
              "      <td>0.130948</td>\n",
              "      <td>0.736840</td>\n",
              "      <td>0.739986</td>\n",
              "      <td>1980-01-01</td>\n",
              "      <td>65.8</td>\n",
              "    </tr>\n",
              "    <tr>\n",
              "      <th>1</th>\n",
              "      <td>65.8</td>\n",
              "      <td>0.160138</td>\n",
              "      <td>0.264588</td>\n",
              "      <td>0.367296</td>\n",
              "      <td>0.726774</td>\n",
              "      <td>0.744863</td>\n",
              "      <td>0.662825</td>\n",
              "      <td>0.319734</td>\n",
              "      <td>0.468713</td>\n",
              "      <td>0.599960</td>\n",
              "      <td>...</td>\n",
              "      <td>0.241274</td>\n",
              "      <td>0.308724</td>\n",
              "      <td>0.710253</td>\n",
              "      <td>0.673910</td>\n",
              "      <td>0.286245</td>\n",
              "      <td>0.128115</td>\n",
              "      <td>0.909573</td>\n",
              "      <td>0.615100</td>\n",
              "      <td>1980-02-01</td>\n",
              "      <td>101.1</td>\n",
              "    </tr>\n",
              "    <tr>\n",
              "      <th>2</th>\n",
              "      <td>101.1</td>\n",
              "      <td>0.244791</td>\n",
              "      <td>0.591772</td>\n",
              "      <td>0.126316</td>\n",
              "      <td>0.988048</td>\n",
              "      <td>0.980332</td>\n",
              "      <td>0.980188</td>\n",
              "      <td>0.177955</td>\n",
              "      <td>0.008800</td>\n",
              "      <td>0.629573</td>\n",
              "      <td>...</td>\n",
              "      <td>0.390637</td>\n",
              "      <td>0.452436</td>\n",
              "      <td>0.705782</td>\n",
              "      <td>0.774462</td>\n",
              "      <td>0.631751</td>\n",
              "      <td>0.235086</td>\n",
              "      <td>0.537343</td>\n",
              "      <td>0.570181</td>\n",
              "      <td>1980-03-01</td>\n",
              "      <td>247.1</td>\n",
              "    </tr>\n",
              "    <tr>\n",
              "      <th>3</th>\n",
              "      <td>247.1</td>\n",
              "      <td>0.492494</td>\n",
              "      <td>0.779492</td>\n",
              "      <td>0.319731</td>\n",
              "      <td>0.857485</td>\n",
              "      <td>0.641255</td>\n",
              "      <td>0.986357</td>\n",
              "      <td>0.480825</td>\n",
              "      <td>0.305399</td>\n",
              "      <td>0.768145</td>\n",
              "      <td>...</td>\n",
              "      <td>0.743645</td>\n",
              "      <td>0.677382</td>\n",
              "      <td>0.514572</td>\n",
              "      <td>0.602426</td>\n",
              "      <td>0.784966</td>\n",
              "      <td>0.583027</td>\n",
              "      <td>0.433170</td>\n",
              "      <td>0.519760</td>\n",
              "      <td>1980-04-01</td>\n",
              "      <td>93.7</td>\n",
              "    </tr>\n",
              "    <tr>\n",
              "      <th>4</th>\n",
              "      <td>93.7</td>\n",
              "      <td>0.659536</td>\n",
              "      <td>0.821613</td>\n",
              "      <td>0.617099</td>\n",
              "      <td>0.633129</td>\n",
              "      <td>0.734383</td>\n",
              "      <td>0.829791</td>\n",
              "      <td>0.406790</td>\n",
              "      <td>0.416917</td>\n",
              "      <td>0.681049</td>\n",
              "      <td>...</td>\n",
              "      <td>0.786981</td>\n",
              "      <td>0.815424</td>\n",
              "      <td>0.997094</td>\n",
              "      <td>0.698438</td>\n",
              "      <td>0.828084</td>\n",
              "      <td>0.768470</td>\n",
              "      <td>0.795436</td>\n",
              "      <td>0.402319</td>\n",
              "      <td>1980-05-01</td>\n",
              "      <td>0.4</td>\n",
              "    </tr>\n",
              "  </tbody>\n",
              "</table>\n",
              "<p>5 rows × 51 columns</p>\n",
              "</div>\n",
              "    <div class=\"colab-df-buttons\">\n",
              "\n",
              "  <div class=\"colab-df-container\">\n",
              "    <button class=\"colab-df-convert\" onclick=\"convertToInteractive('df-06f25341-855e-4111-95ff-840fc5da467a')\"\n",
              "            title=\"Convert this dataframe to an interactive table.\"\n",
              "            style=\"display:none;\">\n",
              "\n",
              "  <svg xmlns=\"http://www.w3.org/2000/svg\" height=\"24px\" viewBox=\"0 -960 960 960\">\n",
              "    <path d=\"M120-120v-720h720v720H120Zm60-500h600v-160H180v160Zm220 220h160v-160H400v160Zm0 220h160v-160H400v160ZM180-400h160v-160H180v160Zm440 0h160v-160H620v160ZM180-180h160v-160H180v160Zm440 0h160v-160H620v160Z\"/>\n",
              "  </svg>\n",
              "    </button>\n",
              "\n",
              "  <style>\n",
              "    .colab-df-container {\n",
              "      display:flex;\n",
              "      gap: 12px;\n",
              "    }\n",
              "\n",
              "    .colab-df-convert {\n",
              "      background-color: #E8F0FE;\n",
              "      border: none;\n",
              "      border-radius: 50%;\n",
              "      cursor: pointer;\n",
              "      display: none;\n",
              "      fill: #1967D2;\n",
              "      height: 32px;\n",
              "      padding: 0 0 0 0;\n",
              "      width: 32px;\n",
              "    }\n",
              "\n",
              "    .colab-df-convert:hover {\n",
              "      background-color: #E2EBFA;\n",
              "      box-shadow: 0px 1px 2px rgba(60, 64, 67, 0.3), 0px 1px 3px 1px rgba(60, 64, 67, 0.15);\n",
              "      fill: #174EA6;\n",
              "    }\n",
              "\n",
              "    .colab-df-buttons div {\n",
              "      margin-bottom: 4px;\n",
              "    }\n",
              "\n",
              "    [theme=dark] .colab-df-convert {\n",
              "      background-color: #3B4455;\n",
              "      fill: #D2E3FC;\n",
              "    }\n",
              "\n",
              "    [theme=dark] .colab-df-convert:hover {\n",
              "      background-color: #434B5C;\n",
              "      box-shadow: 0px 1px 3px 1px rgba(0, 0, 0, 0.15);\n",
              "      filter: drop-shadow(0px 1px 2px rgba(0, 0, 0, 0.3));\n",
              "      fill: #FFFFFF;\n",
              "    }\n",
              "  </style>\n",
              "\n",
              "    <script>\n",
              "      const buttonEl =\n",
              "        document.querySelector('#df-06f25341-855e-4111-95ff-840fc5da467a button.colab-df-convert');\n",
              "      buttonEl.style.display =\n",
              "        google.colab.kernel.accessAllowed ? 'block' : 'none';\n",
              "\n",
              "      async function convertToInteractive(key) {\n",
              "        const element = document.querySelector('#df-06f25341-855e-4111-95ff-840fc5da467a');\n",
              "        const dataTable =\n",
              "          await google.colab.kernel.invokeFunction('convertToInteractive',\n",
              "                                                    [key], {});\n",
              "        if (!dataTable) return;\n",
              "\n",
              "        const docLinkHtml = 'Like what you see? Visit the ' +\n",
              "          '<a target=\"_blank\" href=https://colab.research.google.com/notebooks/data_table.ipynb>data table notebook</a>'\n",
              "          + ' to learn more about interactive tables.';\n",
              "        element.innerHTML = '';\n",
              "        dataTable['output_type'] = 'display_data';\n",
              "        await google.colab.output.renderOutput(dataTable, element);\n",
              "        const docLink = document.createElement('div');\n",
              "        docLink.innerHTML = docLinkHtml;\n",
              "        element.appendChild(docLink);\n",
              "      }\n",
              "    </script>\n",
              "  </div>\n",
              "\n",
              "\n",
              "<div id=\"df-79bb66dc-ae16-4b9f-9c6f-412f58320725\">\n",
              "  <button class=\"colab-df-quickchart\" onclick=\"quickchart('df-79bb66dc-ae16-4b9f-9c6f-412f58320725')\"\n",
              "            title=\"Suggest charts.\"\n",
              "            style=\"display:none;\">\n",
              "\n",
              "<svg xmlns=\"http://www.w3.org/2000/svg\" height=\"24px\"viewBox=\"0 0 24 24\"\n",
              "     width=\"24px\">\n",
              "    <g>\n",
              "        <path d=\"M19 3H5c-1.1 0-2 .9-2 2v14c0 1.1.9 2 2 2h14c1.1 0 2-.9 2-2V5c0-1.1-.9-2-2-2zM9 17H7v-7h2v7zm4 0h-2V7h2v10zm4 0h-2v-4h2v4z\"/>\n",
              "    </g>\n",
              "</svg>\n",
              "  </button>\n",
              "\n",
              "<style>\n",
              "  .colab-df-quickchart {\n",
              "      --bg-color: #E8F0FE;\n",
              "      --fill-color: #1967D2;\n",
              "      --hover-bg-color: #E2EBFA;\n",
              "      --hover-fill-color: #174EA6;\n",
              "      --disabled-fill-color: #AAA;\n",
              "      --disabled-bg-color: #DDD;\n",
              "  }\n",
              "\n",
              "  [theme=dark] .colab-df-quickchart {\n",
              "      --bg-color: #3B4455;\n",
              "      --fill-color: #D2E3FC;\n",
              "      --hover-bg-color: #434B5C;\n",
              "      --hover-fill-color: #FFFFFF;\n",
              "      --disabled-bg-color: #3B4455;\n",
              "      --disabled-fill-color: #666;\n",
              "  }\n",
              "\n",
              "  .colab-df-quickchart {\n",
              "    background-color: var(--bg-color);\n",
              "    border: none;\n",
              "    border-radius: 50%;\n",
              "    cursor: pointer;\n",
              "    display: none;\n",
              "    fill: var(--fill-color);\n",
              "    height: 32px;\n",
              "    padding: 0;\n",
              "    width: 32px;\n",
              "  }\n",
              "\n",
              "  .colab-df-quickchart:hover {\n",
              "    background-color: var(--hover-bg-color);\n",
              "    box-shadow: 0 1px 2px rgba(60, 64, 67, 0.3), 0 1px 3px 1px rgba(60, 64, 67, 0.15);\n",
              "    fill: var(--button-hover-fill-color);\n",
              "  }\n",
              "\n",
              "  .colab-df-quickchart-complete:disabled,\n",
              "  .colab-df-quickchart-complete:disabled:hover {\n",
              "    background-color: var(--disabled-bg-color);\n",
              "    fill: var(--disabled-fill-color);\n",
              "    box-shadow: none;\n",
              "  }\n",
              "\n",
              "  .colab-df-spinner {\n",
              "    border: 2px solid var(--fill-color);\n",
              "    border-color: transparent;\n",
              "    border-bottom-color: var(--fill-color);\n",
              "    animation:\n",
              "      spin 1s steps(1) infinite;\n",
              "  }\n",
              "\n",
              "  @keyframes spin {\n",
              "    0% {\n",
              "      border-color: transparent;\n",
              "      border-bottom-color: var(--fill-color);\n",
              "      border-left-color: var(--fill-color);\n",
              "    }\n",
              "    20% {\n",
              "      border-color: transparent;\n",
              "      border-left-color: var(--fill-color);\n",
              "      border-top-color: var(--fill-color);\n",
              "    }\n",
              "    30% {\n",
              "      border-color: transparent;\n",
              "      border-left-color: var(--fill-color);\n",
              "      border-top-color: var(--fill-color);\n",
              "      border-right-color: var(--fill-color);\n",
              "    }\n",
              "    40% {\n",
              "      border-color: transparent;\n",
              "      border-right-color: var(--fill-color);\n",
              "      border-top-color: var(--fill-color);\n",
              "    }\n",
              "    60% {\n",
              "      border-color: transparent;\n",
              "      border-right-color: var(--fill-color);\n",
              "    }\n",
              "    80% {\n",
              "      border-color: transparent;\n",
              "      border-right-color: var(--fill-color);\n",
              "      border-bottom-color: var(--fill-color);\n",
              "    }\n",
              "    90% {\n",
              "      border-color: transparent;\n",
              "      border-bottom-color: var(--fill-color);\n",
              "    }\n",
              "  }\n",
              "</style>\n",
              "\n",
              "  <script>\n",
              "    async function quickchart(key) {\n",
              "      const quickchartButtonEl =\n",
              "        document.querySelector('#' + key + ' button');\n",
              "      quickchartButtonEl.disabled = true;  // To prevent multiple clicks.\n",
              "      quickchartButtonEl.classList.add('colab-df-spinner');\n",
              "      try {\n",
              "        const charts = await google.colab.kernel.invokeFunction(\n",
              "            'suggestCharts', [key], {});\n",
              "      } catch (error) {\n",
              "        console.error('Error during call to suggestCharts:', error);\n",
              "      }\n",
              "      quickchartButtonEl.classList.remove('colab-df-spinner');\n",
              "      quickchartButtonEl.classList.add('colab-df-quickchart-complete');\n",
              "    }\n",
              "    (() => {\n",
              "      let quickchartButtonEl =\n",
              "        document.querySelector('#df-79bb66dc-ae16-4b9f-9c6f-412f58320725 button');\n",
              "      quickchartButtonEl.style.display =\n",
              "        google.colab.kernel.accessAllowed ? 'block' : 'none';\n",
              "    })();\n",
              "  </script>\n",
              "</div>\n",
              "    </div>\n",
              "  </div>\n"
            ]
          },
          "metadata": {},
          "execution_count": 3
        }
      ]
    },
    {
      "cell_type": "markdown",
      "source": [
        "## Data preprocessing"
      ],
      "metadata": {
        "id": "UhWCOHGjGTmp"
      }
    },
    {
      "cell_type": "code",
      "source": [
        "# Checking Constant Features using VarianceThreshold\n",
        "\n",
        "from sklearn.feature_selection import VarianceThreshold\n",
        "\n",
        "numeric_data = weather.drop(['date'], axis=1)\n",
        "constant_filter = VarianceThreshold(threshold=0)\n",
        "\n",
        "#Fit and transforming on train data\n",
        "data_constant = constant_filter.fit_transform(numeric_data)\n",
        "print(data_constant.shape)\n",
        "\n",
        "#Extracting all constant columns using get support function of our filter\n",
        "constant_columns = [column for column in numeric_data.columns\n",
        "                    if column not in numeric_data.columns[constant_filter.get_support()]]\n",
        "\n",
        "#No. of constant columns\n",
        "print(len(constant_columns))\n",
        "\n",
        "#Constant columns names:\n",
        "for column in constant_columns:\n",
        "    print(column)"
      ],
      "metadata": {
        "id": "a8uT6jD8GVGH",
        "colab": {
          "base_uri": "https://localhost:8080/"
        },
        "outputId": "7a303e75-fc3f-4506-8700-2e9019c515b1"
      },
      "execution_count": null,
      "outputs": [
        {
          "output_type": "stream",
          "name": "stdout",
          "text": [
            "(431, 50)\n",
            "0\n"
          ]
        }
      ]
    },
    {
      "cell_type": "code",
      "source": [
        "# Checking Quasi-Constant Features\n",
        "\n",
        "qcons_filter = VarianceThreshold(threshold=0.01)\n",
        "\n",
        "#Fit and transforming on train data\n",
        "data_qcons = qcons_filter.fit_transform(numeric_data)\n",
        "print(data_qcons.shape)\n",
        "\n",
        "#Extracting all Quasi constant columns using get support function of our filter\n",
        "qcons_columns = [column for column in numeric_data.columns\n",
        "                    if column not in numeric_data.columns[qcons_filter.get_support()]]\n",
        "\n",
        "#No. of Quasi constant columns\n",
        "print(len(qcons_columns))\n",
        "\n",
        "#Quasi Constant columns names:\n",
        "for column in qcons_columns:\n",
        "    print(column)"
      ],
      "metadata": {
        "id": "l2kk1aewGVJT",
        "colab": {
          "base_uri": "https://localhost:8080/"
        },
        "outputId": "ef6315ab-96b8-472b-8273-a2f2fe658142"
      },
      "execution_count": null,
      "outputs": [
        {
          "output_type": "stream",
          "name": "stdout",
          "text": [
            "(431, 50)\n",
            "0\n"
          ]
        }
      ]
    },
    {
      "cell_type": "markdown",
      "source": [
        "## Feature importances"
      ],
      "metadata": {
        "id": "WczFfzyUdRsj"
      }
    },
    {
      "cell_type": "markdown",
      "source": [],
      "metadata": {
        "id": "ozJEkwaydYrd"
      }
    },
    {
      "cell_type": "code",
      "source": [
        "# split train and test data\n",
        "# train = weather[weather['date'] < pd.to_datetime(\"1/1/2006\")]\n",
        "# test = weather[weather['date'] > pd.to_datetime(\"1/1/2006\")]\n",
        "\n",
        "# X = weather.drop(['date', 'puttalam', 'target'], axis=1)\n",
        "# y = weather['target']\n",
        "\n",
        "weather4 = weather.copy()\n",
        "\n",
        "X_train =  weather4[weather4['date'] < pd.to_datetime(\"1/1/2006\")].drop(['date', 'target'], axis=1)\n",
        "y_train = weather4[weather4['date'] < pd.to_datetime(\"1/1/2006\")]['target']\n",
        "\n",
        "X_test =  weather4[weather4['date'] > pd.to_datetime(\"1/1/2006\")].drop(['date', 'target'], axis=1)\n",
        "y_test = weather4[weather4['date'] > pd.to_datetime(\"1/1/2006\")]['target']"
      ],
      "metadata": {
        "id": "qzO51QzJsPVM"
      },
      "execution_count": null,
      "outputs": []
    },
    {
      "cell_type": "code",
      "source": [
        "from sklearn.ensemble import RandomForestRegressor  # For regression tasks\n",
        "from sklearn.ensemble import RandomForestClassifier  # For classification tasks\n",
        "from xgboost import XGBRegressor, XGBClassifier  # XGBoost\n",
        "\n",
        "# Example with Random Forest for regression\n",
        "model = RandomForestRegressor(n_estimators=100, random_state=42)\n",
        "model.fit(X_train, y_train)"
      ],
      "metadata": {
        "colab": {
          "base_uri": "https://localhost:8080/",
          "height": 75
        },
        "id": "a3xt59S2dhtI",
        "outputId": "c368974e-9f77-4dbb-8bfd-355d662f21e6"
      },
      "execution_count": null,
      "outputs": [
        {
          "output_type": "execute_result",
          "data": {
            "text/plain": [
              "RandomForestRegressor(random_state=42)"
            ],
            "text/html": [
              "<style>#sk-container-id-1 {color: black;background-color: white;}#sk-container-id-1 pre{padding: 0;}#sk-container-id-1 div.sk-toggleable {background-color: white;}#sk-container-id-1 label.sk-toggleable__label {cursor: pointer;display: block;width: 100%;margin-bottom: 0;padding: 0.3em;box-sizing: border-box;text-align: center;}#sk-container-id-1 label.sk-toggleable__label-arrow:before {content: \"▸\";float: left;margin-right: 0.25em;color: #696969;}#sk-container-id-1 label.sk-toggleable__label-arrow:hover:before {color: black;}#sk-container-id-1 div.sk-estimator:hover label.sk-toggleable__label-arrow:before {color: black;}#sk-container-id-1 div.sk-toggleable__content {max-height: 0;max-width: 0;overflow: hidden;text-align: left;background-color: #f0f8ff;}#sk-container-id-1 div.sk-toggleable__content pre {margin: 0.2em;color: black;border-radius: 0.25em;background-color: #f0f8ff;}#sk-container-id-1 input.sk-toggleable__control:checked~div.sk-toggleable__content {max-height: 200px;max-width: 100%;overflow: auto;}#sk-container-id-1 input.sk-toggleable__control:checked~label.sk-toggleable__label-arrow:before {content: \"▾\";}#sk-container-id-1 div.sk-estimator input.sk-toggleable__control:checked~label.sk-toggleable__label {background-color: #d4ebff;}#sk-container-id-1 div.sk-label input.sk-toggleable__control:checked~label.sk-toggleable__label {background-color: #d4ebff;}#sk-container-id-1 input.sk-hidden--visually {border: 0;clip: rect(1px 1px 1px 1px);clip: rect(1px, 1px, 1px, 1px);height: 1px;margin: -1px;overflow: hidden;padding: 0;position: absolute;width: 1px;}#sk-container-id-1 div.sk-estimator {font-family: monospace;background-color: #f0f8ff;border: 1px dotted black;border-radius: 0.25em;box-sizing: border-box;margin-bottom: 0.5em;}#sk-container-id-1 div.sk-estimator:hover {background-color: #d4ebff;}#sk-container-id-1 div.sk-parallel-item::after {content: \"\";width: 100%;border-bottom: 1px solid gray;flex-grow: 1;}#sk-container-id-1 div.sk-label:hover label.sk-toggleable__label {background-color: #d4ebff;}#sk-container-id-1 div.sk-serial::before {content: \"\";position: absolute;border-left: 1px solid gray;box-sizing: border-box;top: 0;bottom: 0;left: 50%;z-index: 0;}#sk-container-id-1 div.sk-serial {display: flex;flex-direction: column;align-items: center;background-color: white;padding-right: 0.2em;padding-left: 0.2em;position: relative;}#sk-container-id-1 div.sk-item {position: relative;z-index: 1;}#sk-container-id-1 div.sk-parallel {display: flex;align-items: stretch;justify-content: center;background-color: white;position: relative;}#sk-container-id-1 div.sk-item::before, #sk-container-id-1 div.sk-parallel-item::before {content: \"\";position: absolute;border-left: 1px solid gray;box-sizing: border-box;top: 0;bottom: 0;left: 50%;z-index: -1;}#sk-container-id-1 div.sk-parallel-item {display: flex;flex-direction: column;z-index: 1;position: relative;background-color: white;}#sk-container-id-1 div.sk-parallel-item:first-child::after {align-self: flex-end;width: 50%;}#sk-container-id-1 div.sk-parallel-item:last-child::after {align-self: flex-start;width: 50%;}#sk-container-id-1 div.sk-parallel-item:only-child::after {width: 0;}#sk-container-id-1 div.sk-dashed-wrapped {border: 1px dashed gray;margin: 0 0.4em 0.5em 0.4em;box-sizing: border-box;padding-bottom: 0.4em;background-color: white;}#sk-container-id-1 div.sk-label label {font-family: monospace;font-weight: bold;display: inline-block;line-height: 1.2em;}#sk-container-id-1 div.sk-label-container {text-align: center;}#sk-container-id-1 div.sk-container {/* jupyter's `normalize.less` sets `[hidden] { display: none; }` but bootstrap.min.css set `[hidden] { display: none !important; }` so we also need the `!important` here to be able to override the default hidden behavior on the sphinx rendered scikit-learn.org. See: https://github.com/scikit-learn/scikit-learn/issues/21755 */display: inline-block !important;position: relative;}#sk-container-id-1 div.sk-text-repr-fallback {display: none;}</style><div id=\"sk-container-id-1\" class=\"sk-top-container\"><div class=\"sk-text-repr-fallback\"><pre>RandomForestRegressor(random_state=42)</pre><b>In a Jupyter environment, please rerun this cell to show the HTML representation or trust the notebook. <br />On GitHub, the HTML representation is unable to render, please try loading this page with nbviewer.org.</b></div><div class=\"sk-container\" hidden><div class=\"sk-item\"><div class=\"sk-estimator sk-toggleable\"><input class=\"sk-toggleable__control sk-hidden--visually\" id=\"sk-estimator-id-1\" type=\"checkbox\" checked><label for=\"sk-estimator-id-1\" class=\"sk-toggleable__label sk-toggleable__label-arrow\">RandomForestRegressor</label><div class=\"sk-toggleable__content\"><pre>RandomForestRegressor(random_state=42)</pre></div></div></div></div></div>"
            ]
          },
          "metadata": {},
          "execution_count": 5
        }
      ]
    },
    {
      "cell_type": "code",
      "source": [
        "feature_importances = model.feature_importances_\n"
      ],
      "metadata": {
        "id": "IdOZ94hrdjn2"
      },
      "execution_count": null,
      "outputs": []
    },
    {
      "cell_type": "code",
      "source": [
        "# For example, selecting the top 25 most important features\n",
        "sorted_indices = feature_importances.argsort()[::-1]\n",
        "selected_features = X_train.columns[sorted_indices[:30]]\n",
        "selected_features"
      ],
      "metadata": {
        "colab": {
          "base_uri": "https://localhost:8080/"
        },
        "id": "jhnUmjKJdoVk",
        "outputId": "d8810584-c5cd-438b-beba-97812729c76d"
      },
      "execution_count": null,
      "outputs": [
        {
          "output_type": "execute_result",
          "data": {
            "text/plain": [
              "Index(['rsuscs', 'wap_850', 'tro3_500', 'sbl', 'puttalam', 'sfcWind', 'rtmt',\n",
              "       'va_500', 'tro3_850', 'rsds', 'rsutcs', 'rsdt', 'ta_850', 'rsus',\n",
              "       'hurs', 'rsdscs', 'clwvi', 'hfss', 'ua_500', 'va_850', 'ta_500', 'clt',\n",
              "       'zg_850', 'hfls', 'clivi', 'rlutcs', 'prc', 'zg_500', 'prw', 'evspsbl'],\n",
              "      dtype='object')"
            ]
          },
          "metadata": {},
          "execution_count": 9
        }
      ]
    },
    {
      "cell_type": "code",
      "source": [],
      "metadata": {
        "id": "R2gEV-RPdoYy"
      },
      "execution_count": null,
      "outputs": []
    },
    {
      "cell_type": "code",
      "source": [],
      "metadata": {
        "id": "3Uju60YadocP"
      },
      "execution_count": null,
      "outputs": []
    },
    {
      "cell_type": "markdown",
      "source": [
        "## XGB"
      ],
      "metadata": {
        "id": "6MP7_sfg5yLC"
      }
    },
    {
      "cell_type": "code",
      "source": [
        "# Apply xgb\n",
        "model = xgb.XGBRegressor(objective='reg:squarederror', random_state=42)\n",
        "model.fit(X_train[selected_features], y_train)"
      ],
      "metadata": {
        "colab": {
          "base_uri": "https://localhost:8080/",
          "height": 248
        },
        "id": "cf4d404osPYu",
        "outputId": "20e2c16f-1707-48c6-f49c-0fc45c1af582"
      },
      "execution_count": null,
      "outputs": [
        {
          "output_type": "execute_result",
          "data": {
            "text/plain": [
              "XGBRegressor(base_score=None, booster=None, callbacks=None,\n",
              "             colsample_bylevel=None, colsample_bynode=None,\n",
              "             colsample_bytree=None, early_stopping_rounds=None,\n",
              "             enable_categorical=False, eval_metric=None, feature_types=None,\n",
              "             gamma=None, gpu_id=None, grow_policy=None, importance_type=None,\n",
              "             interaction_constraints=None, learning_rate=None, max_bin=None,\n",
              "             max_cat_threshold=None, max_cat_to_onehot=None,\n",
              "             max_delta_step=None, max_depth=None, max_leaves=None,\n",
              "             min_child_weight=None, missing=nan, monotone_constraints=None,\n",
              "             n_estimators=100, n_jobs=None, num_parallel_tree=None,\n",
              "             predictor=None, random_state=42, ...)"
            ],
            "text/html": [
              "<style>#sk-container-id-2 {color: black;background-color: white;}#sk-container-id-2 pre{padding: 0;}#sk-container-id-2 div.sk-toggleable {background-color: white;}#sk-container-id-2 label.sk-toggleable__label {cursor: pointer;display: block;width: 100%;margin-bottom: 0;padding: 0.3em;box-sizing: border-box;text-align: center;}#sk-container-id-2 label.sk-toggleable__label-arrow:before {content: \"▸\";float: left;margin-right: 0.25em;color: #696969;}#sk-container-id-2 label.sk-toggleable__label-arrow:hover:before {color: black;}#sk-container-id-2 div.sk-estimator:hover label.sk-toggleable__label-arrow:before {color: black;}#sk-container-id-2 div.sk-toggleable__content {max-height: 0;max-width: 0;overflow: hidden;text-align: left;background-color: #f0f8ff;}#sk-container-id-2 div.sk-toggleable__content pre {margin: 0.2em;color: black;border-radius: 0.25em;background-color: #f0f8ff;}#sk-container-id-2 input.sk-toggleable__control:checked~div.sk-toggleable__content {max-height: 200px;max-width: 100%;overflow: auto;}#sk-container-id-2 input.sk-toggleable__control:checked~label.sk-toggleable__label-arrow:before {content: \"▾\";}#sk-container-id-2 div.sk-estimator input.sk-toggleable__control:checked~label.sk-toggleable__label {background-color: #d4ebff;}#sk-container-id-2 div.sk-label input.sk-toggleable__control:checked~label.sk-toggleable__label {background-color: #d4ebff;}#sk-container-id-2 input.sk-hidden--visually {border: 0;clip: rect(1px 1px 1px 1px);clip: rect(1px, 1px, 1px, 1px);height: 1px;margin: -1px;overflow: hidden;padding: 0;position: absolute;width: 1px;}#sk-container-id-2 div.sk-estimator {font-family: monospace;background-color: #f0f8ff;border: 1px dotted black;border-radius: 0.25em;box-sizing: border-box;margin-bottom: 0.5em;}#sk-container-id-2 div.sk-estimator:hover {background-color: #d4ebff;}#sk-container-id-2 div.sk-parallel-item::after {content: \"\";width: 100%;border-bottom: 1px solid gray;flex-grow: 1;}#sk-container-id-2 div.sk-label:hover label.sk-toggleable__label {background-color: #d4ebff;}#sk-container-id-2 div.sk-serial::before {content: \"\";position: absolute;border-left: 1px solid gray;box-sizing: border-box;top: 0;bottom: 0;left: 50%;z-index: 0;}#sk-container-id-2 div.sk-serial {display: flex;flex-direction: column;align-items: center;background-color: white;padding-right: 0.2em;padding-left: 0.2em;position: relative;}#sk-container-id-2 div.sk-item {position: relative;z-index: 1;}#sk-container-id-2 div.sk-parallel {display: flex;align-items: stretch;justify-content: center;background-color: white;position: relative;}#sk-container-id-2 div.sk-item::before, #sk-container-id-2 div.sk-parallel-item::before {content: \"\";position: absolute;border-left: 1px solid gray;box-sizing: border-box;top: 0;bottom: 0;left: 50%;z-index: -1;}#sk-container-id-2 div.sk-parallel-item {display: flex;flex-direction: column;z-index: 1;position: relative;background-color: white;}#sk-container-id-2 div.sk-parallel-item:first-child::after {align-self: flex-end;width: 50%;}#sk-container-id-2 div.sk-parallel-item:last-child::after {align-self: flex-start;width: 50%;}#sk-container-id-2 div.sk-parallel-item:only-child::after {width: 0;}#sk-container-id-2 div.sk-dashed-wrapped {border: 1px dashed gray;margin: 0 0.4em 0.5em 0.4em;box-sizing: border-box;padding-bottom: 0.4em;background-color: white;}#sk-container-id-2 div.sk-label label {font-family: monospace;font-weight: bold;display: inline-block;line-height: 1.2em;}#sk-container-id-2 div.sk-label-container {text-align: center;}#sk-container-id-2 div.sk-container {/* jupyter's `normalize.less` sets `[hidden] { display: none; }` but bootstrap.min.css set `[hidden] { display: none !important; }` so we also need the `!important` here to be able to override the default hidden behavior on the sphinx rendered scikit-learn.org. See: https://github.com/scikit-learn/scikit-learn/issues/21755 */display: inline-block !important;position: relative;}#sk-container-id-2 div.sk-text-repr-fallback {display: none;}</style><div id=\"sk-container-id-2\" class=\"sk-top-container\"><div class=\"sk-text-repr-fallback\"><pre>XGBRegressor(base_score=None, booster=None, callbacks=None,\n",
              "             colsample_bylevel=None, colsample_bynode=None,\n",
              "             colsample_bytree=None, early_stopping_rounds=None,\n",
              "             enable_categorical=False, eval_metric=None, feature_types=None,\n",
              "             gamma=None, gpu_id=None, grow_policy=None, importance_type=None,\n",
              "             interaction_constraints=None, learning_rate=None, max_bin=None,\n",
              "             max_cat_threshold=None, max_cat_to_onehot=None,\n",
              "             max_delta_step=None, max_depth=None, max_leaves=None,\n",
              "             min_child_weight=None, missing=nan, monotone_constraints=None,\n",
              "             n_estimators=100, n_jobs=None, num_parallel_tree=None,\n",
              "             predictor=None, random_state=42, ...)</pre><b>In a Jupyter environment, please rerun this cell to show the HTML representation or trust the notebook. <br />On GitHub, the HTML representation is unable to render, please try loading this page with nbviewer.org.</b></div><div class=\"sk-container\" hidden><div class=\"sk-item\"><div class=\"sk-estimator sk-toggleable\"><input class=\"sk-toggleable__control sk-hidden--visually\" id=\"sk-estimator-id-2\" type=\"checkbox\" checked><label for=\"sk-estimator-id-2\" class=\"sk-toggleable__label sk-toggleable__label-arrow\">XGBRegressor</label><div class=\"sk-toggleable__content\"><pre>XGBRegressor(base_score=None, booster=None, callbacks=None,\n",
              "             colsample_bylevel=None, colsample_bynode=None,\n",
              "             colsample_bytree=None, early_stopping_rounds=None,\n",
              "             enable_categorical=False, eval_metric=None, feature_types=None,\n",
              "             gamma=None, gpu_id=None, grow_policy=None, importance_type=None,\n",
              "             interaction_constraints=None, learning_rate=None, max_bin=None,\n",
              "             max_cat_threshold=None, max_cat_to_onehot=None,\n",
              "             max_delta_step=None, max_depth=None, max_leaves=None,\n",
              "             min_child_weight=None, missing=nan, monotone_constraints=None,\n",
              "             n_estimators=100, n_jobs=None, num_parallel_tree=None,\n",
              "             predictor=None, random_state=42, ...)</pre></div></div></div></div></div>"
            ]
          },
          "metadata": {},
          "execution_count": 10
        }
      ]
    },
    {
      "cell_type": "code",
      "source": [
        "y_pred = model.predict(X_test[selected_features])\n",
        "mse = mean_squared_error(y_test, y_pred)\n",
        "mse"
      ],
      "metadata": {
        "colab": {
          "base_uri": "https://localhost:8080/"
        },
        "id": "2I5M8LMYvC5T",
        "outputId": "17ec6808-0b13-4860-cb35-b166b25e21ef"
      },
      "execution_count": null,
      "outputs": [
        {
          "output_type": "execute_result",
          "data": {
            "text/plain": [
              "6982.558648526843"
            ]
          },
          "metadata": {},
          "execution_count": 12
        }
      ]
    },
    {
      "cell_type": "code",
      "source": [
        "# plotting\n",
        "train_dates = weather4[weather4['date'] < pd.to_datetime(\"1/1/2006\")]['date']\n",
        "test_dates = weather4[weather4['date'] > pd.to_datetime(\"1/1/2006\")]['date']\n",
        "\n",
        "plt.plot(train_dates, y_train.values, color=\"black\")\n",
        "plt.plot(test_dates, y_test.values, color=\"yellow\")\n",
        "plt.plot(test_dates, y_pred, color='red', label = 'XGB Predictions')\n",
        "\n",
        "plt.legend()"
      ],
      "metadata": {
        "colab": {
          "base_uri": "https://localhost:8080/",
          "height": 448
        },
        "id": "jQW9vWq1vC8w",
        "outputId": "d3f38a2b-d2fd-4370-b865-f94bc9021a49"
      },
      "execution_count": null,
      "outputs": [
        {
          "output_type": "execute_result",
          "data": {
            "text/plain": [
              "<matplotlib.legend.Legend at 0x77fc22e66980>"
            ]
          },
          "metadata": {},
          "execution_count": 13
        },
        {
          "output_type": "display_data",
          "data": {
            "text/plain": [
              "<Figure size 640x480 with 1 Axes>"
            ],
            "image/png": "[encoded data removed]"
          },
          "metadata": {}
        }
      ]
    },
    {
      "cell_type": "code",
      "source": [],
      "metadata": {
        "id": "MmP7HHYYjOUL"
      },
      "execution_count": null,
      "outputs": []
    },
    {
      "cell_type": "markdown",
      "source": [
        "## Random forest"
      ],
      "metadata": {
        "id": "vg0qwHlMjWqP"
      }
    },
    {
      "cell_type": "code",
      "source": [
        "from sklearn.ensemble import RandomForestRegressor\n",
        "\n",
        "# Initialize the Random Forest regressor with your desired hyperparameters\n",
        "model = RandomForestRegressor(n_estimators=100, random_state=42)\n",
        "\n",
        "model.fit(X_train[selected_features], y_train)"
      ],
      "metadata": {
        "colab": {
          "base_uri": "https://localhost:8080/",
          "height": 75
        },
        "id": "ZC-fNrTZjaTw",
        "outputId": "817d1c5f-4d51-4dde-fb9d-97e6c4fb460e"
      },
      "execution_count": null,
      "outputs": [
        {
          "output_type": "execute_result",
          "data": {
            "text/plain": [
              "RandomForestRegressor(random_state=42)"
            ],
            "text/html": [
              "<style>#sk-container-id-3 {color: black;background-color: white;}#sk-container-id-3 pre{padding: 0;}#sk-container-id-3 div.sk-toggleable {background-color: white;}#sk-container-id-3 label.sk-toggleable__label {cursor: pointer;display: block;width: 100%;margin-bottom: 0;padding: 0.3em;box-sizing: border-box;text-align: center;}#sk-container-id-3 label.sk-toggleable__label-arrow:before {content: \"▸\";float: left;margin-right: 0.25em;color: #696969;}#sk-container-id-3 label.sk-toggleable__label-arrow:hover:before {color: black;}#sk-container-id-3 div.sk-estimator:hover label.sk-toggleable__label-arrow:before {color: black;}#sk-container-id-3 div.sk-toggleable__content {max-height: 0;max-width: 0;overflow: hidden;text-align: left;background-color: #f0f8ff;}#sk-container-id-3 div.sk-toggleable__content pre {margin: 0.2em;color: black;border-radius: 0.25em;background-color: #f0f8ff;}#sk-container-id-3 input.sk-toggleable__control:checked~div.sk-toggleable__content {max-height: 200px;max-width: 100%;overflow: auto;}#sk-container-id-3 input.sk-toggleable__control:checked~label.sk-toggleable__label-arrow:before {content: \"▾\";}#sk-container-id-3 div.sk-estimator input.sk-toggleable__control:checked~label.sk-toggleable__label {background-color: #d4ebff;}#sk-container-id-3 div.sk-label input.sk-toggleable__control:checked~label.sk-toggleable__label {background-color: #d4ebff;}#sk-container-id-3 input.sk-hidden--visually {border: 0;clip: rect(1px 1px 1px 1px);clip: rect(1px, 1px, 1px, 1px);height: 1px;margin: -1px;overflow: hidden;padding: 0;position: absolute;width: 1px;}#sk-container-id-3 div.sk-estimator {font-family: monospace;background-color: #f0f8ff;border: 1px dotted black;border-radius: 0.25em;box-sizing: border-box;margin-bottom: 0.5em;}#sk-container-id-3 div.sk-estimator:hover {background-color: #d4ebff;}#sk-container-id-3 div.sk-parallel-item::after {content: \"\";width: 100%;border-bottom: 1px solid gray;flex-grow: 1;}#sk-container-id-3 div.sk-label:hover label.sk-toggleable__label {background-color: #d4ebff;}#sk-container-id-3 div.sk-serial::before {content: \"\";position: absolute;border-left: 1px solid gray;box-sizing: border-box;top: 0;bottom: 0;left: 50%;z-index: 0;}#sk-container-id-3 div.sk-serial {display: flex;flex-direction: column;align-items: center;background-color: white;padding-right: 0.2em;padding-left: 0.2em;position: relative;}#sk-container-id-3 div.sk-item {position: relative;z-index: 1;}#sk-container-id-3 div.sk-parallel {display: flex;align-items: stretch;justify-content: center;background-color: white;position: relative;}#sk-container-id-3 div.sk-item::before, #sk-container-id-3 div.sk-parallel-item::before {content: \"\";position: absolute;border-left: 1px solid gray;box-sizing: border-box;top: 0;bottom: 0;left: 50%;z-index: -1;}#sk-container-id-3 div.sk-parallel-item {display: flex;flex-direction: column;z-index: 1;position: relative;background-color: white;}#sk-container-id-3 div.sk-parallel-item:first-child::after {align-self: flex-end;width: 50%;}#sk-container-id-3 div.sk-parallel-item:last-child::after {align-self: flex-start;width: 50%;}#sk-container-id-3 div.sk-parallel-item:only-child::after {width: 0;}#sk-container-id-3 div.sk-dashed-wrapped {border: 1px dashed gray;margin: 0 0.4em 0.5em 0.4em;box-sizing: border-box;padding-bottom: 0.4em;background-color: white;}#sk-container-id-3 div.sk-label label {font-family: monospace;font-weight: bold;display: inline-block;line-height: 1.2em;}#sk-container-id-3 div.sk-label-container {text-align: center;}#sk-container-id-3 div.sk-container {/* jupyter's `normalize.less` sets `[hidden] { display: none; }` but bootstrap.min.css set `[hidden] { display: none !important; }` so we also need the `!important` here to be able to override the default hidden behavior on the sphinx rendered scikit-learn.org. See: https://github.com/scikit-learn/scikit-learn/issues/21755 */display: inline-block !important;position: relative;}#sk-container-id-3 div.sk-text-repr-fallback {display: none;}</style><div id=\"sk-container-id-3\" class=\"sk-top-container\"><div class=\"sk-text-repr-fallback\"><pre>RandomForestRegressor(random_state=42)</pre><b>In a Jupyter environment, please rerun this cell to show the HTML representation or trust the notebook. <br />On GitHub, the HTML representation is unable to render, please try loading this page with nbviewer.org.</b></div><div class=\"sk-container\" hidden><div class=\"sk-item\"><div class=\"sk-estimator sk-toggleable\"><input class=\"sk-toggleable__control sk-hidden--visually\" id=\"sk-estimator-id-3\" type=\"checkbox\" checked><label for=\"sk-estimator-id-3\" class=\"sk-toggleable__label sk-toggleable__label-arrow\">RandomForestRegressor</label><div class=\"sk-toggleable__content\"><pre>RandomForestRegressor(random_state=42)</pre></div></div></div></div></div>"
            ]
          },
          "metadata": {},
          "execution_count": 14
        }
      ]
    },
    {
      "cell_type": "code",
      "source": [
        "y_pred = model.predict(X_test[selected_features])\n",
        "mse = mean_squared_error(y_test, y_pred)\n",
        "mse"
      ],
      "metadata": {
        "colab": {
          "base_uri": "https://localhost:8080/"
        },
        "id": "XWMUFGykjeTw",
        "outputId": "f2531bd8-eb03-4ccd-8b2d-b5e349f8c25c"
      },
      "execution_count": null,
      "outputs": [
        {
          "output_type": "execute_result",
          "data": {
            "text/plain": [
              "4943.850279381355"
            ]
          },
          "metadata": {},
          "execution_count": 15
        }
      ]
    },
    {
      "cell_type": "markdown",
      "source": [
        "## ARIMA"
      ],
      "metadata": {
        "id": "dCjIKldpjxU0"
      }
    },
    {
      "cell_type": "code",
      "source": [
        "from statsmodels.tsa.arima.model import ARIMA\n",
        "\n",
        "ARIMAmodel = ARIMA(y_train, order = (2, 2, 2))\n",
        "ARIMAmodel = ARIMAmodel.fit()\n"
      ],
      "metadata": {
        "colab": {
          "base_uri": "https://localhost:8080/"
        },
        "id": "k3rYX3w3jwgH",
        "outputId": "d791732c-2440-4798-fdea-20d0f3038d32"
      },
      "execution_count": null,
      "outputs": [
        {
          "output_type": "stream",
          "name": "stderr",
          "text": [
            "/usr/local/lib/python3.10/dist-packages/statsmodels/base/model.py:607: ConvergenceWarning: Maximum Likelihood optimization failed to converge. Check mle_retvals\n",
            "  warnings.warn(\"Maximum Likelihood optimization failed to \"\n"
          ]
        }
      ]
    },
    {
      "cell_type": "code",
      "source": [
        "y_pred = model.predict(X_test[selected_features])\n",
        "mse = mean_squared_error(y_test, y_pred)\n",
        "mse"
      ],
      "metadata": {
        "colab": {
          "base_uri": "https://localhost:8080/"
        },
        "id": "fLSxf_ignhUR",
        "outputId": "3bf044d5-42c7-4d9b-bef3-2f4b6e5f547d"
      },
      "execution_count": null,
      "outputs": [
        {
          "output_type": "execute_result",
          "data": {
            "text/plain": [
              "4943.850279381355"
            ]
          },
          "metadata": {},
          "execution_count": 26
        }
      ]
    },
    {
      "cell_type": "code",
      "source": [
        "train_data = weather4[weather4['date'] < pd.to_datetime(\"1/1/2006\")]\n",
        "test_data = weather4[weather4['date'] > pd.to_datetime(\"1/1/2006\")]\n",
        "\n",
        "y_train = train_data['target']\n",
        "y_test = test_data['target']\n"
      ],
      "metadata": {
        "id": "ymL39sfq8YUD"
      },
      "execution_count": null,
      "outputs": []
    },
    {
      "cell_type": "code",
      "source": [
        "import pmdarima as pm\n",
        "import statsmodels.api as sm\n",
        "\n",
        "# Perform auto ARIMA to determine p, d, and q\n",
        "model = pm.auto_arima(y_train, start_p=1, start_d=1, start_q=1,\n",
        "                      max_p=3, max_d=2, max_q=3,\n",
        "                      seasonal=False, stepwise=True, trace=True, error_action='ignore',\n",
        "                      suppress_warnings=True)\n",
        "\n",
        "# Get the best ARIMA order\n",
        "order = model.order\n"
      ],
      "metadata": {
        "colab": {
          "base_uri": "https://localhost:8080/"
        },
        "id": "_tCA0Z1b522V",
        "outputId": "d750a2fa-8711-401d-8a1b-c1154c4895cc"
      },
      "execution_count": null,
      "outputs": [
        {
          "output_type": "stream",
          "name": "stdout",
          "text": [
            "Performing stepwise search to minimize aic\n",
            " ARIMA(1,0,1)(0,0,0)[0]             : AIC=3889.793, Time=0.05 sec\n",
            " ARIMA(0,0,0)(0,0,0)[0]             : AIC=4013.713, Time=0.01 sec\n",
            " ARIMA(1,0,0)(0,0,0)[0]             : AIC=3889.529, Time=0.02 sec\n",
            " ARIMA(0,0,1)(0,0,0)[0]             : AIC=3926.824, Time=0.04 sec\n",
            " ARIMA(2,0,0)(0,0,0)[0]             : AIC=3890.129, Time=0.03 sec\n",
            " ARIMA(2,0,1)(0,0,0)[0]             : AIC=inf, Time=0.28 sec\n",
            " ARIMA(1,0,0)(0,0,0)[0] intercept   : AIC=3818.485, Time=0.06 sec\n",
            " ARIMA(0,0,0)(0,0,0)[0] intercept   : AIC=3836.408, Time=0.02 sec\n",
            " ARIMA(2,0,0)(0,0,0)[0] intercept   : AIC=3810.499, Time=0.04 sec\n",
            " ARIMA(3,0,0)(0,0,0)[0] intercept   : AIC=3790.732, Time=0.06 sec\n",
            " ARIMA(3,0,1)(0,0,0)[0] intercept   : AIC=3790.630, Time=0.42 sec\n",
            " ARIMA(2,0,1)(0,0,0)[0] intercept   : AIC=3796.439, Time=0.30 sec\n",
            " ARIMA(3,0,2)(0,0,0)[0] intercept   : AIC=3746.343, Time=0.62 sec\n",
            " ARIMA(2,0,2)(0,0,0)[0] intercept   : AIC=inf, Time=0.50 sec\n",
            " ARIMA(3,0,3)(0,0,0)[0] intercept   : AIC=inf, Time=0.57 sec\n",
            " ARIMA(2,0,3)(0,0,0)[0] intercept   : AIC=inf, Time=0.61 sec\n",
            " ARIMA(3,0,2)(0,0,0)[0]             : AIC=inf, Time=0.40 sec\n",
            "\n",
            "Best model:  ARIMA(3,0,2)(0,0,0)[0] intercept\n",
            "Total fit time: 4.038 seconds\n"
          ]
        }
      ]
    },
    {
      "cell_type": "code",
      "source": [
        "# Build and fit the ARIMA model\n",
        "arima_model = sm.tsa.ARIMA(y_train, order=order)\n",
        "arima_results = arima_model.fit()\n"
      ],
      "metadata": {
        "id": "gTvbd4uA7-mv"
      },
      "execution_count": null,
      "outputs": []
    },
    {
      "cell_type": "code",
      "source": [
        "y_pred_arima = arima_results.predict(start=len(train_data), end=len(train_data) + len(test_data) - 1, typ='levels')\n"
      ],
      "metadata": {
        "id": "vnmJ7pkL7-zJ"
      },
      "execution_count": null,
      "outputs": []
    },
    {
      "cell_type": "code",
      "source": [
        "mse_arima = mean_squared_error(y_test, y_pred_arima)\n",
        "print(f\"ARIMA MSE: {mse_arima}\")\n"
      ],
      "metadata": {
        "colab": {
          "base_uri": "https://localhost:8080/"
        },
        "id": "A9eBKEwr8eYX",
        "outputId": "d473da8f-1d6b-4997-fb6a-fef003274dc0"
      },
      "execution_count": null,
      "outputs": [
        {
          "output_type": "stream",
          "name": "stdout",
          "text": [
            "ARIMA MSE: 8811.795365936609\n"
          ]
        }
      ]
    },
    {
      "cell_type": "code",
      "source": [
        "plt.plot(train_data['date'], y_train.values, color=\"black\")\n",
        "plt.plot(test_data['date'], y_test.values, color=\"yellow\")\n",
        "plt.plot(test_data['date'], y_pred_arima, color='red', label='ARIMA Predictions')\n",
        "\n",
        "plt.legend()\n",
        "plt.show()\n"
      ],
      "metadata": {
        "colab": {
          "base_uri": "https://localhost:8080/",
          "height": 430
        },
        "id": "u-_JBQNj8ebi",
        "outputId": "985903e1-8a51-4d7e-d73e-fd8f29b385c1"
      },
      "execution_count": null,
      "outputs": [
        {
          "output_type": "display_data",
          "data": {
            "text/plain": [
              "<Figure size 640x480 with 1 Axes>"
            ],
            "image/png": "[encoded data removed]"
          },
          "metadata": {}
        }
      ]
    },
    {
      "cell_type": "markdown",
      "source": [
        "hyperparameter tuning"
      ],
      "metadata": {
        "id": "XodZkkhY9PkB"
      }
    },
    {
      "cell_type": "code",
      "source": [
        "import pmdarima as pm\n",
        "\n",
        "# Perform auto ARIMA to determine the best order\n",
        "model = pm.auto_arima(y_train, seasonal=True, stepwise=True, trace=True, error_action='ignore', suppress_warnings=True)\n",
        "\n",
        "# Get the best ARIMA order\n",
        "best_order = model.order\n",
        "\n",
        "print(f\"Best ARIMA Order: {best_order}\")\n"
      ],
      "metadata": {
        "colab": {
          "base_uri": "https://localhost:8080/"
        },
        "id": "ww82uGLI8efE",
        "outputId": "ca1bff6c-d3ea-413f-8373-ca89c964e0b5"
      },
      "execution_count": null,
      "outputs": [
        {
          "output_type": "stream",
          "name": "stdout",
          "text": [
            "Performing stepwise search to minimize aic\n",
            " ARIMA(2,0,2)(0,0,0)[0] intercept   : AIC=inf, Time=0.50 sec\n",
            " ARIMA(0,0,0)(0,0,0)[0] intercept   : AIC=3836.408, Time=0.02 sec\n",
            " ARIMA(1,0,0)(0,0,0)[0] intercept   : AIC=3818.485, Time=0.06 sec\n",
            " ARIMA(0,0,1)(0,0,0)[0] intercept   : AIC=3814.940, Time=0.13 sec\n",
            " ARIMA(0,0,0)(0,0,0)[0]             : AIC=4013.713, Time=0.02 sec\n",
            " ARIMA(1,0,1)(0,0,0)[0] intercept   : AIC=3816.920, Time=0.19 sec\n",
            " ARIMA(0,0,2)(0,0,0)[0] intercept   : AIC=3816.842, Time=0.19 sec\n",
            " ARIMA(1,0,2)(0,0,0)[0] intercept   : AIC=3817.840, Time=0.29 sec\n",
            " ARIMA(0,0,1)(0,0,0)[0]             : AIC=3926.824, Time=0.04 sec\n",
            "\n",
            "Best model:  ARIMA(0,0,1)(0,0,0)[0] intercept\n",
            "Total fit time: 1.450 seconds\n",
            "Best ARIMA Order: (0, 0, 1)\n"
          ]
        }
      ]
    },
    {
      "cell_type": "code",
      "source": [
        "import statsmodels.api as sm\n",
        "\n",
        "# Define SARIMA order\n",
        "p, d, q = 0, 0, 1  # Non-seasonal order\n",
        "P, D, Q, s = 0, 0, 1, 12  # Seasonal order with s=12 for monthly data\n",
        "\n",
        "# Build and fit the SARIMA model\n",
        "sarima_model = sm.tsa.SARIMAX(y_train, order=(p, d, q), seasonal_order=(P, D, Q, s))\n",
        "sarima_results = sarima_model.fit()\n",
        "\n",
        "# Make predictions on the test data\n",
        "y_pred_sarima = sarima_results.predict(start=len(train_data), end=len(train_data) + len(test_data) - 1, dynamic=False)\n",
        "\n",
        "# Calculate MSE\n",
        "mse_sarima = mean_squared_error(y_test, y_pred_sarima)\n",
        "print(f\"SARIMA MSE: {mse_sarima}\")\n"
      ],
      "metadata": {
        "colab": {
          "base_uri": "https://localhost:8080/"
        },
        "id": "wRWi9kJGAIBv",
        "outputId": "8bdb2f71-db2d-44cc-dce7-cc24fcd53e2d"
      },
      "execution_count": null,
      "outputs": [
        {
          "output_type": "stream",
          "name": "stdout",
          "text": [
            "SARIMA MSE: 18497.066543204917\n"
          ]
        }
      ]
    },
    {
      "cell_type": "code",
      "source": [],
      "metadata": {
        "id": "iNN5CMgSA7Sz"
      },
      "execution_count": null,
      "outputs": []
    }
  ]
}