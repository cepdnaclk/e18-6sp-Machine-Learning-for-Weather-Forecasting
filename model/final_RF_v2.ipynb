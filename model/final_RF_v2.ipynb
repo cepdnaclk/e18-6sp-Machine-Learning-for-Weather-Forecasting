{
  "nbformat": 4,
  "nbformat_minor": 0,
  "metadata": {
    "colab": {
      "provenance": []
    },
    "kernelspec": {
      "name": "python3",
      "display_name": "Python 3"
    },
    "language_info": {
      "name": "python"
    }
  },
  "cells": [
    {
      "cell_type": "code",
      "execution_count": 1,
      "metadata": {
        "colab": {
          "base_uri": "https://localhost:8080/"
        },
        "id": "qqVM5ytK_VU8",
        "outputId": "0c2c910d-a1dd-4d23-917e-a9f8edb740fb"
      },
      "outputs": [
        {
          "output_type": "stream",
          "name": "stdout",
          "text": [
            "Mean Squared Error RF: 4943.850279381355\n",
            "Mean Absolute Error RF: 53.40168644067796\n"
          ]
        }
      ],
      "source": [
        "# Default hyper parameters\n",
        "# Import libraries\n",
        "import pandas as pd\n",
        "import numpy as np\n",
        "import matplotlib.pyplot as plt\n",
        "import seaborn as sns\n",
        "import plotly.express as px\n",
        "from sklearn.metrics import classification_report, confusion_matrix\n",
        "import xgboost as xgb\n",
        "import numpy as np\n",
        "from sklearn.metrics import mean_squared_error, mean_absolute_error\n",
        "from sklearn.metrics import mean_absolute_percentage_error\n",
        "import warnings\n",
        "from sklearn.ensemble import RandomForestRegressor  # For regression tasks\n",
        "\n",
        "warnings.filterwarnings(\"ignore\")\n",
        "\n",
        "\n",
        "# load data\n",
        "weather = pd.read_csv(\"climatedatawithdate.csv\")\n",
        "\n",
        "# Create a target column\n",
        "weather['date'] = pd.to_datetime(weather['date'])  # Convert 'Date' column to DateTime format\n",
        "weather.sort_values(by='date', inplace=True)\n",
        "\n",
        "weather['target'] = weather['puttalam'].shift(-1)\n",
        "weather.dropna(inplace=True)        # Drop the last row\n",
        "\n",
        "weather4 = weather.copy()\n",
        "\n",
        "X_train =  weather4[weather4['date'] < pd.to_datetime(\"1/1/2006\")].drop(['date', 'target'], axis=1)\n",
        "y_train = weather4[weather4['date'] < pd.to_datetime(\"1/1/2006\")]['target']\n",
        "\n",
        "X_test =  weather4[weather4['date'] > pd.to_datetime(\"1/1/2006\")].drop(['date', 'target'], axis=1)\n",
        "y_test = weather4[weather4['date'] > pd.to_datetime(\"1/1/2006\")]['target']\n",
        "\n",
        "selected_features = ['rsuscs', 'wap_850', 'tro3_500', 'sbl', 'puttalam', 'sfcWind', 'rtmt',\n",
        "       'va_500', 'tro3_850', 'rsds', 'rsutcs', 'rsdt', 'ta_850', 'rsus',\n",
        "       'hurs', 'rsdscs', 'clwvi', 'hfss', 'ua_500', 'va_850', 'ta_500', 'clt',\n",
        "       'zg_850', 'hfls', 'clivi', 'rlutcs', 'prc', 'zg_500', 'prw', 'evspsbl']\n",
        "\n",
        "\n",
        "model = RandomForestRegressor(n_estimators=100, random_state=42)\n",
        "\n",
        "model.fit(X_train[selected_features], y_train)\n",
        "\n",
        "y_pred = model.predict(X_test[selected_features])\n",
        "# Calculate Mean Squared Error (MSE)\n",
        "mse = mean_squared_error(y_test, y_pred)\n",
        "print(\"Mean Squared Error RF:\", mse)\n",
        "\n",
        "# Calculate Mean Absolute Error (MAE)\n",
        "mae = mean_absolute_error(y_test, y_pred)\n",
        "print(\"Mean Absolute Error RF:\", mae)\n",
        "\n",
        "# plotting\n",
        "# train_dates = weather4[weather4['date'] < pd.to_datetime(\"1/1/2006\")]['date']\n",
        "# test_dates = weather4[weather4['date'] > pd.to_datetime(\"1/1/2006\")]['date']\n",
        "\n",
        "# plt.plot(train_dates, y_train.values, color=\"black\")\n",
        "# plt.plot(test_dates, y_test.values, color=\"yellow\")\n",
        "# plt.plot(test_dates, y_pred, color='red', label = 'RF Predictions')\n",
        "\n",
        "# plt.legend()"
      ]
    }
  ]
}